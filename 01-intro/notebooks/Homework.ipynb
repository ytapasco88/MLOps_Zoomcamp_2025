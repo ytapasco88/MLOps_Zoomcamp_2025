{
 "cells": [
  {
   "cell_type": "markdown",
   "id": "32fdb786",
   "metadata": {},
   "source": [
    "# MLOps Zoomcamp - 01 Intro - Homework"
   ]
  },
  {
   "cell_type": "markdown",
   "id": "f8881c01",
   "metadata": {},
   "source": [
    "The goal of this homework is to train a simple model for predicting the duration of a ride - similar to what we did in this module."
   ]
  },
  {
   "cell_type": "markdown",
   "id": "71e8426e",
   "metadata": {},
   "source": [
    "### 1.  Importing Python libraries"
   ]
  },
  {
   "cell_type": "code",
   "execution_count": 1,
   "id": "d565e4dd",
   "metadata": {},
   "outputs": [],
   "source": [
    "# !pip install pandas\n",
    "# !pip install scikit-learn\n",
    "# !pip install tqdm\n",
    "# !pip install seaborn\n",
    "# !pip install pyarrow"
   ]
  },
  {
   "cell_type": "code",
   "execution_count": 21,
   "id": "6ddded3a",
   "metadata": {},
   "outputs": [],
   "source": [
    "import pandas as pd\n",
    "import numpy as np\n",
    "import sklearn\n",
    "from tqdm import tqdm\n",
    "tqdm.pandas()\n",
    "import seaborn as sns\n",
    "pd.options.display.float_format = '{:20,.2f}'.format\n",
    "\n",
    "from sklearn.feature_extraction import DictVectorizer\n",
    "from sklearn.metrics import mean_squared_error\n",
    "from sklearn.linear_model import LinearRegression\n",
    "\n",
    "import warnings\n",
    "warnings.filterwarnings('ignore')"
   ]
  },
  {
   "cell_type": "markdown",
   "id": "b3f31d34",
   "metadata": {},
   "source": [
    "### 2. Data Ingestion\n",
    "\n",
    "* Data is read from the URL: https://www.nyc.gov/site/tlc/about/tlc-trip-record-data.page\n",
    "* We'll use the 'Yellow Taxi Trip Records' datasets for NYC taxis from January and February 2023"
   ]
  },
  {
   "cell_type": "code",
   "execution_count": 3,
   "id": "3d0af2c8",
   "metadata": {},
   "outputs": [],
   "source": [
    "df_jan23 = pd.read_parquet(\"https://d37ci6vzurychx.cloudfront.net/trip-data/yellow_tripdata_2023-01.parquet\")\n",
    "df_feb23 = pd.read_parquet(\"https://d37ci6vzurychx.cloudfront.net/trip-data/yellow_tripdata_2023-02.parquet\")"
   ]
  },
  {
   "cell_type": "markdown",
   "id": "92465eba",
   "metadata": {},
   "source": [
    "### Q1. Downloading the data\n",
    "**Read the data for January. How many columns are there?**"
   ]
  },
  {
   "cell_type": "code",
   "execution_count": 4,
   "id": "0644d7c7",
   "metadata": {},
   "outputs": [
    {
     "data": {
      "text/plain": [
       "Index(['VendorID', 'tpep_pickup_datetime', 'tpep_dropoff_datetime',\n",
       "       'passenger_count', 'trip_distance', 'RatecodeID', 'store_and_fwd_flag',\n",
       "       'PULocationID', 'DOLocationID', 'payment_type', 'fare_amount', 'extra',\n",
       "       'mta_tax', 'tip_amount', 'tolls_amount', 'improvement_surcharge',\n",
       "       'total_amount', 'congestion_surcharge', 'airport_fee'],\n",
       "      dtype='object')"
      ]
     },
     "execution_count": 4,
     "metadata": {},
     "output_type": "execute_result"
    }
   ],
   "source": [
    "df_jan23.columns"
   ]
  },
  {
   "cell_type": "code",
   "execution_count": 5,
   "id": "cadfe2bb",
   "metadata": {},
   "outputs": [
    {
     "name": "stdout",
     "output_type": "stream",
     "text": [
      "Total Columns: 19\n"
     ]
    }
   ],
   "source": [
    "no_columns = len(df_jan23.columns)\n",
    "print(f\"Total Columns: {no_columns}\")"
   ]
  },
  {
   "cell_type": "markdown",
   "id": "0df0a678",
   "metadata": {},
   "source": [
    "### Q2. Computing duration\n",
    "**Now let's compute the duration variable. It should contain the duration of a ride in minutes**\n",
    "\n",
    "**What's the standard deviation of the trips duration in January?**"
   ]
  },
  {
   "cell_type": "code",
   "execution_count": 6,
   "id": "342a6781",
   "metadata": {},
   "outputs": [
    {
     "name": "stderr",
     "output_type": "stream",
     "text": [
      "100%|██████████| 3066766/3066766 [00:13<00:00, 235778.01it/s]"
     ]
    },
    {
     "name": "stdout",
     "output_type": "stream",
     "text": [
      "Standard Deviation of the trips duration in January: 42.59435124195458\n"
     ]
    },
    {
     "name": "stderr",
     "output_type": "stream",
     "text": [
      "\n"
     ]
    }
   ],
   "source": [
    "df_jan23[\"duration\"] = df_jan23['tpep_dropoff_datetime'] - df_jan23['tpep_pickup_datetime']\n",
    "df_jan23['duration'] = df_jan23[\"duration\"].progress_apply(lambda td: td.total_seconds()/60)\n",
    "\n",
    "standard_deviation = df_jan23[\"duration\"].std()\n",
    "\n",
    "print(f\"Standard Deviation of the trips duration in January: {standard_deviation}\")"
   ]
  },
  {
   "cell_type": "markdown",
   "id": "f8e7e40d",
   "metadata": {},
   "source": [
    "### Q3. Dropping outliers\n",
    "**Next, we need to check the distribution of the duration variable. There are some outliers. Let's remove them and keep only the records where the duration was between 1 and 60 minutes (inclusive).**"
   ]
  },
  {
   "cell_type": "code",
   "execution_count": 7,
   "id": "6f15fc3d",
   "metadata": {},
   "outputs": [
    {
     "data": {
      "text/plain": [
       "<Axes: xlabel='duration'>"
      ]
     },
     "execution_count": 7,
     "metadata": {},
     "output_type": "execute_result"
    },
    {
     "data": {
      "image/png": "[encoded data removed]",
      "text/plain": [
       "<Figure size 640x480 with 1 Axes>"
      ]
     },
     "metadata": {},
     "output_type": "display_data"
    }
   ],
   "source": [
    "sns.boxplot(x=df_jan23[\"duration\"])"
   ]
  },
  {
   "cell_type": "code",
   "execution_count": 8,
   "id": "dd502b63",
   "metadata": {},
   "outputs": [],
   "source": [
    "before = df_jan23.duration.count()"
   ]
  },
  {
   "cell_type": "code",
   "execution_count": 9,
   "id": "c08ca670",
   "metadata": {},
   "outputs": [],
   "source": [
    "df_jan23_without_outliers = df_jan23[(df_jan23.duration >=1) & (df_jan23.duration <=60)]"
   ]
  },
  {
   "cell_type": "code",
   "execution_count": 10,
   "id": "81ba3612",
   "metadata": {},
   "outputs": [
    {
     "data": {
      "text/plain": [
       "<Axes: xlabel='duration'>"
      ]
     },
     "execution_count": 10,
     "metadata": {},
     "output_type": "execute_result"
    },
    {
     "data": {
      "image/png": "[encoded data removed]",
      "text/plain": [
       "<Figure size 640x480 with 1 Axes>"
      ]
     },
     "metadata": {},
     "output_type": "display_data"
    }
   ],
   "source": [
    "sns.boxplot(x=df_jan23_without_outliers[\"duration\"])"
   ]
  },
  {
   "cell_type": "code",
   "execution_count": 11,
   "id": "35c58cf0",
   "metadata": {},
   "outputs": [],
   "source": [
    "after = df_jan23_without_outliers.duration.count()"
   ]
  },
  {
   "cell_type": "markdown",
   "id": "c0f83540",
   "metadata": {},
   "source": [
    "**What fraction of the records left after you dropped the outliers?**"
   ]
  },
  {
   "cell_type": "code",
   "execution_count": 12,
   "id": "ecf8e53f",
   "metadata": {},
   "outputs": [
    {
     "name": "stdout",
     "output_type": "stream",
     "text": [
      "Fraction: 98.1220282212598 %\n"
     ]
    }
   ],
   "source": [
    "fraction = (after / before) * 100\n",
    "print(f\"Fraction: {fraction} %\")"
   ]
  },
  {
   "cell_type": "markdown",
   "id": "d44ec363",
   "metadata": {},
   "source": [
    "### Q4. One-hot encoding\n",
    "\n",
    "Let's apply one-hot encoding to the pickup and dropoff location IDs. We'll use only these two features for our model.\n",
    "\n",
    "* Turn the dataframe into a list of dictionaries (remember to re-cast the ids to strings - otherwise it will label encode them)\n",
    "* Fit a dictionary vectorizer\n",
    "* Get a feature matrix from it"
   ]
  },
  {
   "cell_type": "code",
   "execution_count": 13,
   "id": "91367b5b",
   "metadata": {},
   "outputs": [],
   "source": [
    "df_jan23_without_outliers[['PULocationID', 'DOLocationID']] = df_jan23_without_outliers[['PULocationID', 'DOLocationID']].astype(str)  \n",
    "\n",
    "dv = DictVectorizer()\n",
    "train_dicts = df_jan23_without_outliers[['PULocationID', 'DOLocationID']].to_dict(orient='records')\n",
    "X_train = dv.fit_transform(train_dicts) "
   ]
  },
  {
   "cell_type": "markdown",
   "id": "08bdd949",
   "metadata": {},
   "source": [
    "**What's the dimensionality of this matrix (number of columns)?**"
   ]
  },
  {
   "cell_type": "code",
   "execution_count": 14,
   "id": "815c1be5",
   "metadata": {},
   "outputs": [
    {
     "name": "stdout",
     "output_type": "stream",
     "text": [
      "Dimensionality of matrix (number of columns): 515\n"
     ]
    }
   ],
   "source": [
    "dimension = X_train.shape[1]\n",
    "\n",
    "print(f\"Dimensionality of matrix (number of columns): {dimension}\")"
   ]
  },
  {
   "cell_type": "markdown",
   "id": "530bff64",
   "metadata": {},
   "source": [
    "### Q5. Training a model\n",
    "\n",
    "Now let's use the feature matrix from the previous step to train a model.\n",
    "\n",
    "* Train a plain linear regression model with default parameters\n",
    "* Calculate the RMSE of the model on the training data"
   ]
  },
  {
   "cell_type": "code",
   "execution_count": 16,
   "id": "133e4fc6",
   "metadata": {},
   "outputs": [],
   "source": [
    "target = 'duration'\n",
    "y_train = df_jan23_without_outliers[target].values\n",
    "model = LinearRegression()\n",
    "model.fit(X_train, y_train)\n",
    "y_pred = model.predict(X_train)"
   ]
  },
  {
   "cell_type": "code",
   "execution_count": 22,
   "id": "ea8633c9",
   "metadata": {},
   "outputs": [],
   "source": [
    "#RMSE = mean_squared_error(y_train, y_pred, squared=False)\n",
    "RMSE = np.sqrt(mean_squared_error(y_train, y_pred))"
   ]
  },
  {
   "cell_type": "markdown",
   "id": "08f58749",
   "metadata": {},
   "source": [
    "**¿What's the RMSE on train?**"
   ]
  },
  {
   "cell_type": "code",
   "execution_count": 23,
   "id": "5dc35a92",
   "metadata": {},
   "outputs": [
    {
     "name": "stdout",
     "output_type": "stream",
     "text": [
      "RMSE on train: 7.649261931416412\n"
     ]
    }
   ],
   "source": [
    "print(f\"RMSE on train: {RMSE}\")"
   ]
  },
  {
   "cell_type": "markdown",
   "id": "61adb1bd",
   "metadata": {},
   "source": [
    "### Q6. Evaluating the model\n",
    "\n",
    "Now let's apply this model to the validation dataset (February 2023)."
   ]
  },
  {
   "cell_type": "code",
   "execution_count": 24,
   "id": "4d005166",
   "metadata": {},
   "outputs": [
    {
     "name": "stderr",
     "output_type": "stream",
     "text": [
      "100%|██████████| 2913955/2913955 [00:15<00:00, 184971.97it/s]\n"
     ]
    }
   ],
   "source": [
    "df_feb23[\"duration\"] = df_feb23['tpep_dropoff_datetime'] - df_feb23['tpep_pickup_datetime']\n",
    "df_feb23['duration'] = df_feb23[\"duration\"].progress_apply(lambda td: td.total_seconds()/60)\n",
    "\n",
    "df_feb23_without_outliers = df_feb23[(df_feb23.duration >=1) & (df_feb23.duration <=60)]\n",
    "\n",
    "df_feb23_without_outliers[['PULocationID', 'DOLocationID']] = df_feb23_without_outliers[['PULocationID', 'DOLocationID']].astype(str)  \n",
    "validation_dicts = df_feb23_without_outliers[['PULocationID', 'DOLocationID']].to_dict(orient='records')\n",
    "X_validation = dv.transform(validation_dicts)\n",
    "\n",
    "y_validation = df_feb23_without_outliers['duration'].values\n",
    "y_prediction = model.predict(X_validation)\n",
    "#RMSE_validation = mean_squared_error(y_validation, y_prediction, squared=False)\n",
    "RMSE_validation = np.sqrt(mean_squared_error(y_validation, y_prediction))"
   ]
  },
  {
   "cell_type": "markdown",
   "id": "4e95af81",
   "metadata": {},
   "source": [
    "**¿What's the RMSE on validation?**"
   ]
  },
  {
   "cell_type": "code",
   "execution_count": 25,
   "id": "72db71ff",
   "metadata": {},
   "outputs": [
    {
     "name": "stdout",
     "output_type": "stream",
     "text": [
      "RMSE on validation: 7.8118162035401735\n"
     ]
    }
   ],
   "source": [
    "print(f\"RMSE on validation: {RMSE_validation}\")"
   ]
  },
  {
   "cell_type": "code",
   "execution_count": null,
   "id": "02a97492",
   "metadata": {},
   "outputs": [],
   "source": []
  }
 ],
 "metadata": {
  "kernelspec": {
   "display_name": "env_mlops_zoomcamps",
   "language": "python",
   "name": "python3"
  },
  "language_info": {
   "codemirror_mode": {
    "name": "ipython",
    "version": 3
   },
   "file_extension": ".py",
   "mimetype": "text/x-python",
   "name": "python",
   "nbconvert_exporter": "python",
   "pygments_lexer": "ipython3",
   "version": "3.9.21"
  }
 },
 "nbformat": 4,
 "nbformat_minor": 5
}
